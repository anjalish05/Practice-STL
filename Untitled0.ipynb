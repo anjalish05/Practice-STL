{
  "nbformat": 4,
  "nbformat_minor": 0,
  "metadata": {
    "colab": {
      "name": "Untitled0.ipynb",
      "provenance": [],
      "authorship_tag": "ABX9TyO+lJa7YsEpAdHaquUR9cXN",
      "include_colab_link": true
    },
    "kernelspec": {
      "name": "python3",
      "display_name": "Python 3"
    },
    "language_info": {
      "name": "python"
    }
  },
  "cells": [
    {
      "cell_type": "markdown",
      "metadata": {
        "id": "view-in-github",
        "colab_type": "text"
      },
      "source": [
        "<a href=\"https://colab.research.google.com/github/anjalish05/Practice-STL/blob/main/Untitled0.ipynb\" target=\"_parent\"><img src=\"https://colab.research.google.com/assets/colab-badge.svg\" alt=\"Open In Colab\"/></a>"
      ]
    },
    {
      "cell_type": "code",
      "execution_count": 2,
      "metadata": {
        "id": "YqlWylotVo7T"
      },
      "outputs": [],
      "source": [
        "import numpy as np \n",
        "\n",
        "# img = cv2.imread(img1.png) \n",
        "# # change bgr to rgb using the below code: \n",
        "# img = cv2.cvtColor(img, cv2.COLOR_BGR2RGB)\n",
        "\n"
      ]
    }
  ]
}